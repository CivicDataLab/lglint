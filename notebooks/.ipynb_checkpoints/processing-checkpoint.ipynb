{
 "cells": [
  {
   "cell_type": "code",
   "execution_count": 1,
   "metadata": {},
   "outputs": [],
   "source": [
    "import os\n",
    "from pathlib import Path\n",
    "from shutil import copy2"
   ]
  },
  {
   "cell_type": "code",
   "execution_count": 4,
   "metadata": {},
   "outputs": [],
   "source": [
    "list_of_dirs = os.listdir(\"/home/akhilesh/cdl/lgl/\")"
   ]
  },
  {
   "cell_type": "code",
   "execution_count": 34,
   "metadata": {},
   "outputs": [],
   "source": [
    "def cp_pdfs(state: str):\n",
    "    available_state = state\n",
    "    state = \"/home/akhilesh/cdl/lgl/\" + 'pocso/' + available_state\n",
    "    print(os.listdir(state))\n",
    "    for districts in os.listdir(state):\n",
    "        district_ = state + \"/\" + districts\n",
    "        for district in os.listdir(district_):\n",
    "    #         print(district_+ \"/\" + district)\n",
    "            for cases in os.listdir(district_+ \"/\" + district):\n",
    "                if cases.endswith('.pdf'):\n",
    "                    case = district_ + \"/\" + district + \"/\" + cases\n",
    "    #                 print(case)\n",
    "                    my_file = Path(case)\n",
    "                    if my_file.exists():\n",
    "                        copy2(my_file, \"/home/akhilesh/cdl/lgl/processed_posco/\" + available_state + \"/\")"
   ]
  },
  {
   "cell_type": "code",
   "execution_count": 42,
   "metadata": {},
   "outputs": [
    {
     "name": "stdout",
     "output_type": "stream",
     "text": [
      "['Burhanpur', 'Mandleshwar', 'Katni', 'Betul', 'Shahdol', 'Shajapur', 'Khandwa', 'Harda', 'Tikamgarh', 'Morena', 'Datia', 'Balaghat', 'Rajgarh', 'Sagar', 'Guna', 'Jabalpur', 'Sheopur', 'Hoshangabad', 'Vidisha', 'Singrauli', 'Alirajpur', 'Satna', 'Jhabua', 'Mandsaur', 'Neemuch', 'Barwani', 'Umaria', 'Chhatarpur', 'Narsinghpur', 'Panna', 'Bhopal', 'Ashoknagr', 'Dindori', 'Dhar', 'Seoni']\n"
     ]
    }
   ],
   "source": [
    "cp_pdfs('Madhya_Pradesh')\n"
   ]
  },
  {
   "cell_type": "code",
   "execution_count": null,
   "metadata": {},
   "outputs": [],
   "source": []
  }
 ],
 "metadata": {
  "kernelspec": {
   "display_name": "Python 3",
   "language": "python",
   "name": "python3"
  },
  "language_info": {
   "codemirror_mode": {
    "name": "ipython",
    "version": 3
   },
   "file_extension": ".py",
   "mimetype": "text/x-python",
   "name": "python",
   "nbconvert_exporter": "python",
   "pygments_lexer": "ipython3",
   "version": "3.7.4"
  }
 },
 "nbformat": 4,
 "nbformat_minor": 2
}
