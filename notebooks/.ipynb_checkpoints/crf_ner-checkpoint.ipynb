{
 "cells": [
  {
   "cell_type": "code",
   "execution_count": 6,
   "metadata": {},
   "outputs": [],
   "source": [
    "import pandas as pd"
   ]
  },
  {
   "cell_type": "code",
   "execution_count": 7,
   "metadata": {},
   "outputs": [],
   "source": [
    "import spacy\n",
    "import re"
   ]
  },
  {
   "cell_type": "code",
   "execution_count": 8,
   "metadata": {},
   "outputs": [],
   "source": [
    "nlp = spacy.load('en_core_web_sm')"
   ]
  },
  {
   "cell_type": "code",
   "execution_count": 10,
   "metadata": {},
   "outputs": [
    {
     "data": {
      "text/plain": [
       "{'id': 1,\n",
       " 'text': 'EU rejects ...',\n",
       " 'annotations': [{'id': 1,\n",
       "   'label': 2,\n",
       "   'start_offset': 0,\n",
       "   'end_offset': 2,\n",
       "   'user': 1}]}"
      ]
     },
     "execution_count": 10,
     "metadata": {},
     "output_type": "execute_result"
    }
   ],
   "source": [
    "{\"id\": 1, \"text\": \"EU rejects ...\", \"annotations\": [{\"id\": 1, \"label\": 2, \"start_offset\": 0, \"end_offset\": 2, \"user\": 1}]}"
   ]
  },
  {
   "cell_type": "code",
   "execution_count": 10,
   "metadata": {},
   "outputs": [],
   "source": [
    "file_input = [\"I am from [Bareli bengal](ls), can I get loan\",\n",
    "    \"'Have you been lending in the [philippines](ls)?',\\n\",\n",
    "    \"'Do you provide loan in [maharastra](ls)',\\n\",\n",
    "    \"'I want [Hyderbad](ls) branch office number',\\n\",\n",
    "    \"'I need [Ahmedabad](ls) Office Number',\\n\",\n",
    "    \"'I am from [lucknow](ls) am I eligible for your loan',\\n\",\n",
    "    \"'Can I get loan in [Goa](ls) ',\\n\",\n",
    "    \"'I want to contact[bangalore](ls) office',\\n\",\n",
    "    \"'Do you give loan at [mysore](ls)',\\n\",\n",
    "    \"'I am from [gujarat](ls) can I get loan',\\n\",\n",
    "    \"'I live in [gulbarga](ls) where to submit document',\\n\",\n",
    "    \"'i am from [punjab](ls)',\\n\",\n",
    "    \"'I am from [kolkata](ls)',\\n\",\n",
    "    \"'I want to speak to executives from [chennai](ls)',\\n\",\n",
    "    \"'I want to chat with [hyderabad](ls) agent',\\n\",\n",
    "    \"'I am from [Hariyana](ls) I am looking for loan',\\n\",\n",
    "    \"'I want some loan but do you give loan in [manali](ls)',\\n\",\n",
    "    \"'Whom should i contact in [chennai](ls) to get loan',\\n\",\n",
    "    \"'I want [bangalore](ls) customer care number',\\n\",\n",
    "    \"'Can I speak to [delhi](ls) agent',\\n\",\n",
    "    \"'I am from [west bengal](ls) Am i eligible for loan',\\n\",\n",
    "    \"'Do you give loan in [vijayawada](ls)',\\n\",\n",
    "    \"'I am from [Raichur](ls) whom should I contact',\\n\",\n",
    "    \"'I want to meet your agent in [Ranchi](ls)',\\n\",\n",
    "    \"'I want [Mumbai](ls) customer care number',\\n\",\n",
    "    \"'Can I speak to an executive from [Pune](ls)',\\n\",\n",
    "    \"'I live in [tamil nadu](ls)',\\n\",\n",
    "    \"'I have my business in [mysore](ls)',\\n\",\n",
    "    \"'I want to speak to [delhi](ls) customer care',\\n\",\n",
    "    \"'I need loan in [rajasthan](ls)',\\n\",\n",
    "    \"'I want to meet your agent in [Jaipur](ls)',\\n\",\n",
    "    \"'I want to start business in [ooty](ls)',\\n\",\n",
    "    \"'I am from [MP](ls)',\\n\",\n",
    "    \"'I live in [orissa](ls)',\\n\",\n",
    "    \"'I am from [Nagpur](ls)',\\n\",\n",
    "    \"'I live in [andhra](ls) can I get loan']\"\n",
    "   ]\n"
   ]
  },
  {
   "cell_type": "code",
   "execution_count": 11,
   "metadata": {},
   "outputs": [],
   "source": [
    "# with open(\"ent.csv\") as f:\n",
    "#     file_input = csv.reader(f)\n",
    "#     file_input = list(file_input)\n",
    "    \n",
    "def process(file_input):\n",
    "    train_data = []\n",
    "#     print(file_input)\n",
    "    for sentence in file_input:\n",
    "        sentence = str(sentence.lower())\n",
    "#         print(sentence)\n",
    "        str_bp = re.search(r'\\[.*\\]', sentence).group()\n",
    "        str_x = re.search(r'\\((.*?)\\)',sentence).group(1)\n",
    "        str_bp = re.sub(r'\\[',\"\", str_bp)\n",
    "        str_bp = re.sub(r'\\]',\"\", str_bp)\n",
    "\n",
    "        str_x = str_x.split()\n",
    "\n",
    "        str_bp = str_bp.split()\n",
    "        sentence = re.sub(r'\\(.*\\)',\"\", sentence)\n",
    "        sentence = re.sub(r'\\[',\"\", sentence)\n",
    "        sentence = re.sub(r'\\]',\"\", sentence)\n",
    "\n",
    "        data_point = []\n",
    "        for word in sentence.split():\n",
    "            for i in str_x:\n",
    "\n",
    "                if word in str_bp and i == 'bp':\n",
    "                    data_point.append([word, 'BP'])\n",
    "                elif word in str_bp and i == 'lp':\n",
    "                    data_point.append([word, 'LT'])\n",
    "                else:\n",
    "                    data_point.append([word, 'NN'])\n",
    "        train_data.append(data_point)\n",
    "        return train_data\n",
    "\n",
    "def doc2features(doc, i):\n",
    "    word = doc[i][0]\n",
    "    # Features from current word\n",
    "    features={\n",
    "        'word.word': word,\n",
    "    }\n",
    "    # Features from previous word\n",
    "    if i > 0:\n",
    "        prevword = doc[i-1][0]\n",
    "        features['word.prevword'] = prevword\n",
    "    else:\n",
    "        features['BOS'] = True # Special \"Beginning of Sequence\" tag\n",
    "    # Features from next word\n",
    "    if i < len(doc)-1:\n",
    "        nextword = doc[i+1][0]\n",
    "        features['word.nextword'] = nextword\n",
    "    else:\n",
    "        features['EOS'] = True # Special \"End of Sequence\" tag\n",
    "    return features\n",
    "\n",
    "def extract_features(doc):\n",
    "    return [doc2features(doc, i) for i in range(len(doc))]\n",
    "\n",
    "def get_labels(doc):\n",
    "    return [tag for (token,tag) in doc]\n",
    "\n",
    "X = [extract_features(doc) for doc in process(file_input)]\n",
    "y = [get_labels(doc) for doc in process(file_input)]\n",
    "\n",
    "def train_crf(clf, X, y):\n",
    "    return clf.fit(X, y)\n",
    "\n",
    "def predict(clf, input_sentence):\n",
    "    test = input_sentence.split()\n",
    "    test = [[i] for i in test]\n",
    "    X_test = [extract_features(test)]\n",
    "    y_pred = clf.predict(X_test)\n",
    "    return y_pred"
   ]
  },
  {
   "cell_type": "code",
   "execution_count": 12,
   "metadata": {},
   "outputs": [
    {
     "name": "stdout",
     "output_type": "stream",
     "text": [
      "[[['i', 'NN'], ['am', 'NN'], ['from', 'NN'], ['bareli', 'BP'], ['bengal,', 'NN'], ['can', 'NN'], ['i', 'NN'], ['get', 'NN'], ['loan', 'NN']], [[\"'have\", 'NN'], ['you', 'NN'], ['been', 'NN'], ['lending', 'NN'], ['in', 'NN'], ['the', 'NN'], [\"philippines?',\", 'NN']], [[\"'do\", 'NN'], ['you', 'NN'], ['provide', 'NN'], ['loan', 'NN'], ['in', 'NN'], [\"maharastra',\", 'NN']], [[\"'i\", 'NN'], ['want', 'NN'], ['hyderbad', 'BP'], ['branch', 'NN'], ['office', 'NN'], [\"number',\", 'NN']], [[\"'i\", 'NN'], ['need', 'NN'], ['ahmedabad', 'BP'], ['office', 'NN'], [\"number',\", 'NN']], [[\"'i\", 'NN'], ['am', 'NN'], ['from', 'NN'], ['lucknow', 'BP'], ['am', 'NN'], ['i', 'NN'], ['eligible', 'NN'], ['for', 'NN'], ['your', 'NN'], [\"loan',\", 'NN']], [[\"'can\", 'NN'], ['i', 'NN'], ['get', 'NN'], ['loan', 'NN'], ['in', 'NN'], ['goa', 'BP'], [\"',\", 'NN']], [[\"'i\", 'NN'], ['want', 'NN'], ['to', 'NN'], ['contactbangalore', 'NN'], [\"office',\", 'NN']], [[\"'do\", 'NN'], ['you', 'NN'], ['give', 'NN'], ['loan', 'NN'], ['at', 'NN'], [\"mysore',\", 'NN']], [[\"'i\", 'NN'], ['am', 'NN'], ['from', 'NN'], ['gujarat', 'BP'], ['can', 'NN'], ['i', 'NN'], ['get', 'NN'], [\"loan',\", 'NN']], [[\"'i\", 'NN'], ['live', 'NN'], ['in', 'NN'], ['gulbarga', 'BP'], ['where', 'NN'], ['to', 'NN'], ['submit', 'NN'], [\"document',\", 'NN']], [[\"'i\", 'NN'], ['am', 'NN'], ['from', 'NN'], [\"punjab',\", 'NN']], [[\"'i\", 'NN'], ['am', 'NN'], ['from', 'NN'], [\"kolkata',\", 'NN']], [[\"'i\", 'NN'], ['want', 'NN'], ['to', 'NN'], ['speak', 'NN'], ['to', 'NN'], ['executives', 'NN'], ['from', 'NN'], [\"chennai',\", 'NN']], [[\"'i\", 'NN'], ['want', 'NN'], ['to', 'NN'], ['chat', 'NN'], ['with', 'NN'], ['hyderabad', 'BP'], [\"agent',\", 'NN']], [[\"'i\", 'NN'], ['am', 'NN'], ['from', 'NN'], ['hariyana', 'BP'], ['i', 'NN'], ['am', 'NN'], ['looking', 'NN'], ['for', 'NN'], [\"loan',\", 'NN']], [[\"'i\", 'NN'], ['want', 'NN'], ['some', 'NN'], ['loan', 'NN'], ['but', 'NN'], ['do', 'NN'], ['you', 'NN'], ['give', 'NN'], ['loan', 'NN'], ['in', 'NN'], [\"manali',\", 'NN']], [[\"'whom\", 'NN'], ['should', 'NN'], ['i', 'NN'], ['contact', 'NN'], ['in', 'NN'], ['chennai', 'BP'], ['to', 'NN'], ['get', 'NN'], [\"loan',\", 'NN']], [[\"'i\", 'NN'], ['want', 'NN'], ['bangalore', 'BP'], ['customer', 'NN'], ['care', 'NN'], [\"number',\", 'NN']], [[\"'can\", 'NN'], ['i', 'NN'], ['speak', 'NN'], ['to', 'NN'], ['delhi', 'BP'], [\"agent',\", 'NN']], [[\"'i\", 'NN'], ['am', 'NN'], ['from', 'NN'], ['west', 'BP'], ['bengal', 'BP'], ['am', 'NN'], ['i', 'NN'], ['eligible', 'NN'], ['for', 'NN'], [\"loan',\", 'NN']], [[\"'do\", 'NN'], ['you', 'NN'], ['give', 'NN'], ['loan', 'NN'], ['in', 'NN'], [\"vijayawada',\", 'NN']], [[\"'i\", 'NN'], ['am', 'NN'], ['from', 'NN'], ['raichur', 'BP'], ['whom', 'NN'], ['should', 'NN'], ['i', 'NN'], [\"contact',\", 'NN']], [[\"'i\", 'NN'], ['want', 'NN'], ['to', 'NN'], ['meet', 'NN'], ['your', 'NN'], ['agent', 'NN'], ['in', 'NN'], [\"ranchi',\", 'NN']], [[\"'i\", 'NN'], ['want', 'NN'], ['mumbai', 'BP'], ['customer', 'NN'], ['care', 'NN'], [\"number',\", 'NN']], [[\"'can\", 'NN'], ['i', 'NN'], ['speak', 'NN'], ['to', 'NN'], ['an', 'NN'], ['executive', 'NN'], ['from', 'NN'], [\"pune',\", 'NN']], [[\"'i\", 'NN'], ['live', 'NN'], ['in', 'NN'], ['tamil', 'BP'], [\"nadu',\", 'NN']], [[\"'i\", 'NN'], ['have', 'NN'], ['my', 'NN'], ['business', 'NN'], ['in', 'NN'], [\"mysore',\", 'NN']], [[\"'i\", 'NN'], ['want', 'NN'], ['to', 'NN'], ['speak', 'NN'], ['to', 'NN'], ['delhi', 'BP'], ['customer', 'NN'], [\"care',\", 'NN']], [[\"'i\", 'NN'], ['need', 'NN'], ['loan', 'NN'], ['in', 'NN'], [\"rajasthan',\", 'NN']], [[\"'i\", 'NN'], ['want', 'NN'], ['to', 'NN'], ['meet', 'NN'], ['your', 'NN'], ['agent', 'NN'], ['in', 'NN'], [\"jaipur',\", 'NN']], [[\"'i\", 'NN'], ['want', 'NN'], ['to', 'NN'], ['start', 'NN'], ['business', 'NN'], ['in', 'NN'], [\"ooty',\", 'NN']], [[\"'i\", 'NN'], ['am', 'NN'], ['from', 'NN'], [\"mp',\", 'NN']], [[\"'i\", 'NN'], ['live', 'NN'], ['in', 'NN'], [\"orissa',\", 'NN']], [[\"'i\", 'NN'], ['am', 'NN'], ['from', 'NN'], [\"nagpur',\", 'NN']], [[\"'i\", 'NN'], ['live', 'NN'], ['in', 'NN'], ['andhra', 'NN'], ['can', 'BP'], ['i', 'BP'], ['get', 'BP'], [\"loan'\", 'BP']]]\n"
     ]
    }
   ],
   "source": [
    "train_data = []\n",
    "for sentence in file_input[:]:\n",
    "    sentence = sentence.lower()\n",
    "    str_bp = re.search(r'\\[.*\\]', sentence).group()\n",
    "    str_bp = re.sub(r'\\[',\"\", str_bp)\n",
    "    str_bp = re.sub(r'\\]',\"\", str_bp)\n",
    "    str_bp = str_bp.split()\n",
    "    \n",
    "    sentence = re.sub(r'\\(.*\\)',\"\", sentence)\n",
    "    sentence = re.sub(r'\\[',\"\", sentence)\n",
    "    sentence = re.sub(r'\\]',\"\", sentence)\n",
    "    \n",
    "    data_point = []\n",
    "    for word in sentence.split():\n",
    "        if word in str_bp:\n",
    "            data_point.append([word, 'BP'])\n",
    "        else:\n",
    "            data_point.append([word, 'NN'])\n",
    "    train_data.append(data_point)\n",
    "print(train_data)"
   ]
  },
  {
   "cell_type": "code",
   "execution_count": 13,
   "metadata": {},
   "outputs": [],
   "source": [
    "import json\n",
    "with open('/home/akhilesh/Downloads/file.json1', 'r') as f:\n",
    "    data = f.readlines()"
   ]
  },
  {
   "cell_type": "code",
   "execution_count": 14,
   "metadata": {},
   "outputs": [],
   "source": [
    "all_data = []\n",
    "all_data.append(json.loads(data[0]))"
   ]
  },
  {
   "cell_type": "code",
   "execution_count": 15,
   "metadata": {},
   "outputs": [],
   "source": [
    "demo = all_data[0]['text'][:1000]"
   ]
  },
  {
   "cell_type": "code",
   "execution_count": 18,
   "metadata": {},
   "outputs": [],
   "source": [
    "demo_stoned = stonenlp(demo)"
   ]
  },
  {
   "cell_type": "code",
   "execution_count": 20,
   "metadata": {},
   "outputs": [
    {
     "name": "stdout",
     "output_type": "stream",
     "text": [
      "Bail Application No.\n",
      "11/18 1.\n",
      "Gaurav 2.\n",
      "Rahul versus State FIR No. :\n",
      "649/17 Under section :\n",
      "363/365/34 of IPC and section 8 of POCSO Act PS :\n",
      "Sangam Vihar 08.01.2018 Present :\n",
      "Mr. Manoj Kumar Jha and Ms. Anita Verma, Counsels for the applicants/accused persons.\n",
      "Mr. Inder Kumar, Additional Public Prosecutor for the State alongwith SI Vivek Singh, IO of the case.\n",
      "Reply to bail application filed by the IO.\n",
      "Arguments on bail application heard.\n",
      "Ld.\n",
      "Counsels for applicants have argued that accused persons have been falsely implicated in the present case out of some misunderstanding otherwise there had been cordial relations between them and the complainant.\n",
      "They have further submitted that there is no previous criminal antecedent of the accused persons and they are is in judicial custody since 11.12.2017.\n",
      "They have further submitted that the investigation in the present case has been completed and hence no useful purpose will be served by keeping the accused persons in custody any further an\n"
     ]
    }
   ],
   "source": [
    "for sent in demo_stoned.sents:\n",
    "    print (sent.text)"
   ]
  },
  {
   "cell_type": "code",
   "execution_count": null,
   "metadata": {},
   "outputs": [],
   "source": [
    "!"
   ]
  },
  {
   "cell_type": "code",
   "execution_count": 21,
   "metadata": {},
   "outputs": [
    {
     "ename": "ModuleNotFoundError",
     "evalue": "No module named 'pysbd'",
     "output_type": "error",
     "traceback": [
      "\u001b[0;31m---------------------------------------------------------------------------\u001b[0m",
      "\u001b[0;31mModuleNotFoundError\u001b[0m                       Traceback (most recent call last)",
      "\u001b[0;32m<ipython-input-21-1dd34f685429>\u001b[0m in \u001b[0;36m<module>\u001b[0;34m\u001b[0m\n\u001b[0;32m----> 1\u001b[0;31m \u001b[0;32mfrom\u001b[0m \u001b[0mpysbd\u001b[0m\u001b[0;34m.\u001b[0m\u001b[0mutil\u001b[0m \u001b[0;32mimport\u001b[0m \u001b[0mPySBDFactory\u001b[0m\u001b[0;34m\u001b[0m\u001b[0;34m\u001b[0m\u001b[0m\n\u001b[0m",
      "\u001b[0;31mModuleNotFoundError\u001b[0m: No module named 'pysbd'"
     ]
    }
   ],
   "source": [
    "from pysbd.util import PySBDFactory"
   ]
  },
  {
   "cell_type": "code",
   "execution_count": 17,
   "metadata": {},
   "outputs": [
    {
     "name": "stdout",
     "output_type": "stream",
     "text": [
      "\n",
      "    The courts in this jurisdiction will enforce those commitments when it is legally possible and necessary to do so (see, most recently, R. (on the application of ClientEarth) v Secretary of State for the Environment, Food and Rural Affairs (No.2) [2017] P.T.S.R. 203 and R. (on the application of ClientEarth) v Secretary of State for Environment, Food and Rural Affairs (No.3) [2018] Env. L.R. 21).\n",
      "The central question in this case arises against that background.\n",
      "\n",
      "    \n"
     ]
    }
   ],
   "source": [
    "from blackstone.pipeline.sentence_segmenter import SentenceSegmenter\n",
    "from blackstone.rules import CITATION_PATTERNS\n",
    "\n",
    "stonenlp = spacy.load(\"en_blackstone_proto\")\n",
    "\n",
    "# add the Blackstone sentence_segmenter to the pipeline before the parser\n",
    "sentence_segmenter = SentenceSegmenter(stonenlp.vocab, CITATION_PATTERNS)\n",
    "stonenlp.add_pipe(sentence_segmenter, before=\"parser\")\n",
    "\n",
    "doc = stonenlp(\n",
    "    \"\"\"\n",
    "    The courts in this jurisdiction will enforce those commitments when it is legally possible and necessary to do so (see, most recently, R. (on the application of ClientEarth) v Secretary of State for the Environment, Food and Rural Affairs (No.2) [2017] P.T.S.R. 203 and R. (on the application of ClientEarth) v Secretary of State for Environment, Food and Rural Affairs (No.3) [2018] Env. L.R. 21). The central question in this case arises against that background.\n",
    "    \"\"\"\n",
    ")\n",
    "\n",
    "for sent in doc.sents:\n",
    "    print (sent.text)"
   ]
  },
  {
   "cell_type": "code",
   "execution_count": null,
   "metadata": {},
   "outputs": [],
   "source": []
  }
 ],
 "metadata": {
  "kernelspec": {
   "display_name": "Python 3",
   "language": "python",
   "name": "python3"
  },
  "language_info": {
   "codemirror_mode": {
    "name": "ipython",
    "version": 3
   },
   "file_extension": ".py",
   "mimetype": "text/x-python",
   "name": "python",
   "nbconvert_exporter": "python",
   "pygments_lexer": "ipython3",
   "version": "3.7.4"
  }
 },
 "nbformat": 4,
 "nbformat_minor": 2
}
