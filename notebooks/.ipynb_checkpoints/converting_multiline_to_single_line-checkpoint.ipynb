{
 "cells": [
  {
   "cell_type": "code",
   "execution_count": 3,
   "metadata": {},
   "outputs": [],
   "source": [
    "import os\n",
    "import subprocess"
   ]
  },
  {
   "cell_type": "code",
   "execution_count": 4,
   "metadata": {},
   "outputs": [],
   "source": [
    "for filename in os.listdir(\"/home/akhilesh/cdl/lgl/processed_posco/Delhi/txts\"):\n",
    "    if filename.endswith('.txt'):\n",
    "        os.system(\"cat \" + \"/home/akhilesh/cdl/lgl/processed_posco/Delhi/txts/\" + filename + \" | \" + \"xargs\" + \" > \" + \"/home/akhilesh/cdl/lgl/processed_posco/Delhi/new/\" + filename)"
   ]
  },
  {
   "cell_type": "code",
   "execution_count": 8,
   "metadata": {},
   "outputs": [],
   "source": [
    "!cat /home/akhilesh/cdl/lgl/processed_posco/Delhi/txts/206900009722017_6.txt | xargs > /home/akhilesh/cdl/lgl/processed_posco/Delhi/new/206900009722017_6.txt"
   ]
  },
  {
   "cell_type": "code",
   "execution_count": null,
   "metadata": {},
   "outputs": [],
   "source": [
    " + \" | \" + \"xargs\" + \" >> \" + \"/home/akhilesh/cdl/lgl/processed_posco/Delhi/new/\" + filename],"
   ]
  }
 ],
 "metadata": {
  "kernelspec": {
   "display_name": "Python 3",
   "language": "python",
   "name": "python3"
  },
  "language_info": {
   "codemirror_mode": {
    "name": "ipython",
    "version": 3
   },
   "file_extension": ".py",
   "mimetype": "text/x-python",
   "name": "python",
   "nbconvert_exporter": "python",
   "pygments_lexer": "ipython3",
   "version": "3.7.4"
  }
 },
 "nbformat": 4,
 "nbformat_minor": 2
}
